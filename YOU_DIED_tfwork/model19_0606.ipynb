{
 "cells": [
  {
   "cell_type": "code",
   "execution_count": 1,
   "id": "becb835b",
   "metadata": {},
   "outputs": [],
   "source": [
    "import matplotlib.pyplot as plt\n",
    "import tensorflow as tf\n",
    "\n",
    "from tensorflow import keras\n",
    "from tensorflow.keras import layers\n",
    "from tensorflow.keras.models import Sequential\n",
    "from tensorflow.keras.preprocessing import image_dataset_from_directory\n",
    "from tensorflow.keras.callbacks import EarlyStopping"
   ]
  },
  {
   "cell_type": "code",
   "execution_count": 2,
   "id": "ccc43a0f",
   "metadata": {},
   "outputs": [],
   "source": [
    "dataset_path = 'E:\\\\workspace\\\\ML_study\\\\AI_project\\\\dataset0\\\\train\\\\'\n",
    "train_data = 'E:\\\\workspace\\\\ML_study\\\\AI_project\\\\dataset1\\\\train\\\\'\n",
    "valid_data = 'E:\\\\workspace\\\\ML_study\\\\AI_project\\\\dataset1\\\\valid\\\\'"
   ]
  },
  {
   "cell_type": "code",
   "execution_count": 3,
   "id": "f8141dce",
   "metadata": {},
   "outputs": [],
   "source": [
    "image_size = (224, 224)\n",
    "batch_size = 16\n",
    "epochs = 100\n",
    "patience = 8\n",
    "# patience: 학습 조기종료 인자. val_loss가 10epoch 동안 낮아지지 않으면 학습 종료"
   ]
  },
  {
   "cell_type": "code",
   "execution_count": 4,
   "id": "4fa3305f",
   "metadata": {},
   "outputs": [
    {
     "name": "stdout",
     "output_type": "stream",
     "text": [
      "Found 1595 files belonging to 2 classes.\n",
      "Found 428 files belonging to 2 classes.\n"
     ]
    }
   ],
   "source": [
    "# directory tree\n",
    "# |- Discovered\n",
    "# |- non_died\n",
    "# |- you_died\n",
    "train_set = image_dataset_from_directory(\n",
    "    train_data,\n",
    "    shuffle=True,\n",
    "    image_size=image_size,\n",
    "    batch_size=batch_size\n",
    ")\n",
    "valid_set = image_dataset_from_directory(\n",
    "    valid_data,\n",
    "    shuffle=True,\n",
    "    image_size=image_size,\n",
    "    batch_size=batch_size\n",
    ")"
   ]
  },
  {
   "cell_type": "code",
   "execution_count": null,
   "id": "d2d754ea",
   "metadata": {},
   "outputs": [],
   "source": [
    "# crop image dataset\n",
    "# directory tree\n",
    "# |- non_died\n",
    "# |- you_died\n",
    "train_set = image_dataset_from_directory(\n",
    "    dataset_path,\n",
    "    validation_split=0.2,\n",
    "    subset='training',\n",
    "    seed=123,\n",
    "    shuffle=True,\n",
    "    image_size=image_size,\n",
    "    batch_size=batch_size\n",
    ")"
   ]
  },
  {
   "cell_type": "code",
   "execution_count": null,
   "id": "ced60946",
   "metadata": {},
   "outputs": [],
   "source": [
    "valid_set = image_dataset_from_directory(\n",
    "    dataset_path,\n",
    "    validation_split=0.2,\n",
    "    subset='validation',\n",
    "    seed=123,\n",
    "    shuffle=True,\n",
    "    image_size=image_size,\n",
    "    batch_size=batch_size\n",
    ")"
   ]
  },
  {
   "cell_type": "code",
   "execution_count": 5,
   "id": "a2f86da9",
   "metadata": {},
   "outputs": [
    {
     "name": "stdout",
     "output_type": "stream",
     "text": [
      "['non_died', 'you_died']\n"
     ]
    }
   ],
   "source": [
    "labels = train_set.class_names\n",
    "print(labels)\n",
    "# ['non_died', 'you_died']"
   ]
  },
  {
   "cell_type": "code",
   "execution_count": 6,
   "id": "28d43a86",
   "metadata": {},
   "outputs": [],
   "source": [
    "# 학습 성능 높이기\n",
    "AUTOTUNE = tf.data.experimental.AUTOTUNE\n",
    "train_set = train_set.cache().shuffle(1000).prefetch(buffer_size=AUTOTUNE)\n",
    "valid_set = valid_set.cache().prefetch(buffer_size=AUTOTUNE)"
   ]
  },
  {
   "cell_type": "code",
   "execution_count": 7,
   "id": "5de8cc49",
   "metadata": {},
   "outputs": [],
   "source": [
    "# 데이터 증강\n",
    "data_augmentation = Sequential(\n",
    "    [\n",
    "        layers.experimental.preprocessing.RandomFlip(\n",
    "            'horizontal',\n",
    "            input_shape=(224, 224, 3)\n",
    "        ),\n",
    "        layers.experimental.preprocessing.RandomRotation(0.1),\n",
    "        layers.experimental.preprocessing.RandomZoom(0.1)\n",
    "    ]\n",
    ")"
   ]
  },
  {
   "cell_type": "code",
   "execution_count": 8,
   "id": "70a6a480",
   "metadata": {},
   "outputs": [],
   "source": [
    "# 모델 구조 VGG-16 모방\n",
    "model = Sequential([\n",
    "    data_augmentation,\n",
    "    layers.experimental.preprocessing.Rescaling(1./255),\n",
    "    layers.Conv2D(16, (3, 3), padding='same', activation='relu'),\n",
    "    layers.Conv2D(16, (3, 3), padding='same', activation='relu'),\n",
    "    layers.MaxPooling2D(pool_size=(2, 2)),\n",
    "    layers.Conv2D(64, (3, 3), padding='same', activation='relu'),\n",
    "    layers.Conv2D(64, (3, 3), padding='same', activation='relu'),\n",
    "    layers.MaxPooling2D(pool_size=(2, 2)),\n",
    "    layers.Conv2D(128, (3, 3), padding='same', activation='relu'),\n",
    "    layers.Conv2D(128, (3, 3), padding='same', activation='relu'),\n",
    "    layers.MaxPooling2D(pool_size=(2, 2)),\n",
    "    layers.Conv2D(128, (3, 3), padding='same', activation='relu'),\n",
    "    layers.Conv2D(224, (3, 3), padding='same', activation='relu'),\n",
    "    layers.MaxPooling2D(pool_size=(2, 2)),\n",
    "    layers.Conv2D(224, (3, 3), padding='same', activation='relu'),\n",
    "    layers.Conv2D(224, (3, 3), padding='same', activation='relu'),\n",
    "    layers.MaxPooling2D(pool_size=(2, 2)),\n",
    "    layers.Dropout(0.2),\n",
    "    layers.Flatten(),\n",
    "    layers.Dense(64, activation='relu'),\n",
    "    layers.Dropout(0.5),\n",
    "    layers.Dense(64, activation='relu'),\n",
    "    layers.Dense(16, activation='relu'),\n",
    "    layers.Dense(2, activation='softmax'),\n",
    "])"
   ]
  },
  {
   "cell_type": "code",
   "execution_count": null,
   "id": "00cadca3",
   "metadata": {},
   "outputs": [],
   "source": [
    "# 모델 구조 VGG 모방\n",
    "# VGG-13 따라해보기\n",
    "model = Sequential([\n",
    "    data_augmentation,\n",
    "    layers.experimental.preprocessing.Rescaling(1./255),\n",
    "    layers.Conv2D(filters=64, kernel_size=(3, 3), padding='same', strides=(1, 1), activation='relu'),\n",
    "    layers.Conv2D(filters=64, kernel_size=(3, 3), padding='same', strides=(1, 1), activation='relu'),\n",
    "    layers.MaxPooling2D(pool_size=(2, 2), strides=(2, 2)),\n",
    "    layers.Conv2D(filters=64, kernel_size=(3, 3), padding='same', strides=(1, 1), activation='relu'),\n",
    "    layers.Conv2D(filters=128, kernel_size=(3, 3), padding='same', strides=(1, 1), activation='relu'),\n",
    "    layers.MaxPooling2D(pool_size=(2, 2), strides=(2, 2)),\n",
    "    layers.Conv2D(filters=128, kernel_size=(3, 3), padding='same', strides=(1, 1), activation='relu'),\n",
    "    layers.Conv2D(filters=256, kernel_size=(3, 3), padding='same', strides=(1, 1), activation='relu'),\n",
    "    layers.MaxPooling2D(pool_size=(2, 2), strides=(2, 2)),\n",
    "    layers.Conv2D(filters=256, kernel_size=(3, 3), padding='same', strides=(1, 1), activation='relu'),\n",
    "    layers.Conv2D(filters=512, kernel_size=(3, 3), padding='same', strides=(1, 1), activation='relu'),\n",
    "    layers.MaxPooling2D(pool_size=(2, 2), strides=(2, 2)),\n",
    "    layers.Conv2D(filters=512, kernel_size=(3, 3), padding='same', strides=(1, 1), activation='relu'),\n",
    "    layers.Conv2D(filters=512, kernel_size=(3, 3), padding='same', strides=(1, 1), activation='relu'),\n",
    "    layers.MaxPooling2D(pool_size=(2, 2), strides=(2, 2)),\n",
    "    layers.Flatten(),\n",
    "    layers.Dense(64, activation='relu'),\n",
    "    layers.Dense(64, activation='relu'),\n",
    "    layers.Dense(3, activation='softmax'),\n",
    "])"
   ]
  },
  {
   "cell_type": "code",
   "execution_count": null,
   "id": "f778be5f",
   "metadata": {},
   "outputs": [],
   "source": [
    "# 모델 구조 VGG-16 모방\n",
    "model = Sequential([\n",
    "    data_augmentation,\n",
    "    layers.experimental.preprocessing.Rescaling(1./255),\n",
    "    layers.Conv2D(64, (3, 3), padding='same', activation='relu'),\n",
    "    layers.Conv2D(64, (3, 3), padding='same', activation='relu'),\n",
    "    layers.MaxPooling2D(pool_size=(2, 2)),\n",
    "    layers.Conv2D(64, (3, 3), padding='same', activation='relu'),\n",
    "    layers.Conv2D(128, (3, 3), padding='same', activation='relu'),\n",
    "    layers.MaxPooling2D(pool_size=(2, 2)),\n",
    "    layers.Conv2D(128, (3, 3), padding='same', activation='relu'),\n",
    "    layers.Conv2D(256, (3, 3), padding='same', activation='relu'),\n",
    "    layers.MaxPooling2D(pool_size=(2, 2)),\n",
    "    layers.Conv2D(256, (3, 3), padding='same', activation='relu'),\n",
    "    layers.Conv2D(256, (3, 3), padding='same', activation='relu'),\n",
    "    layers.MaxPooling2D(pool_size=(2, 2)),\n",
    "    layers.Flatten(),\n",
    "    layers.Dense(4000, activation='relu'),\n",
    "    layers.Dense(4000, activation='relu'),\n",
    "    layers.Dense(2000, activation='relu'),\n",
    "    layers.Dense(2000, activation='relu'),\n",
    "    layers.Dense(1000, activation='relu'),\n",
    "    layers.Dense(1000, activation='relu'),\n",
    "    layers.Dense(16, activation='relu'),\n",
    "    layers.Dense(3, activation='softmax'),\n",
    "])\n"
   ]
  },
  {
   "cell_type": "code",
   "execution_count": null,
   "id": "63ba2d19",
   "metadata": {},
   "outputs": [],
   "source": [
    "model = Sequential([\n",
    "  layers.experimental.preprocessing.Rescaling(1./255, input_shape=(180, 180, 3)),\n",
    "  layers.Conv2D(16, 3, padding='same', activation='relu'),\n",
    "  layers.MaxPooling2D(),\n",
    "  layers.Conv2D(32, 3, padding='same', activation='relu'),\n",
    "  layers.MaxPooling2D(),\n",
    "  layers.Conv2D(64, 3, padding='same', activation='relu'),\n",
    "  layers.MaxPooling2D(),\n",
    "  layers.Flatten(),\n",
    "  layers.Dense(128, activation='relu'),\n",
    "  layers.Dense(3)\n",
    "])"
   ]
  },
  {
   "cell_type": "code",
   "execution_count": null,
   "id": "d9c06f04",
   "metadata": {},
   "outputs": [],
   "source": [
    "model = Sequential([\n",
    "    data_augmentation,\n",
    "    layers.experimental.preprocessing.Rescaling(1./255),\n",
    "    layers.Conv2D(16, 3, padding='same', activation='relu'),\n",
    "    layers.MaxPooling2D(),\n",
    "    layers.Conv2D(32, 3, padding='same', activation='relu'),\n",
    "    layers.MaxPooling2D(),\n",
    "    layers.Conv2D(64, 3, padding='same', activation='relu'),\n",
    "    layers.MaxPooling2D(),\n",
    "    layers.Dropout(0.2),\n",
    "    layers.Flatten(),\n",
    "    layers.Dense(128, activation='relu'),\n",
    "    layers.Dense(3)\n",
    "])"
   ]
  },
  {
   "cell_type": "code",
   "execution_count": 9,
   "id": "c4c98168",
   "metadata": {},
   "outputs": [
    {
     "name": "stdout",
     "output_type": "stream",
     "text": [
      "Model: \"sequential_1\"\n",
      "_________________________________________________________________\n",
      " Layer (type)                Output Shape              Param #   \n",
      "=================================================================\n",
      " sequential (Sequential)     (None, 224, 224, 3)       0         \n",
      "                                                                 \n",
      " rescaling (Rescaling)       (None, 224, 224, 3)       0         \n",
      "                                                                 \n",
      " conv2d (Conv2D)             (None, 224, 224, 16)      448       \n",
      "                                                                 \n",
      " conv2d_1 (Conv2D)           (None, 224, 224, 16)      2320      \n",
      "                                                                 \n",
      " max_pooling2d (MaxPooling2D  (None, 112, 112, 16)     0         \n",
      " )                                                               \n",
      "                                                                 \n",
      " conv2d_2 (Conv2D)           (None, 112, 112, 64)      9280      \n",
      "                                                                 \n",
      " conv2d_3 (Conv2D)           (None, 112, 112, 64)      36928     \n",
      "                                                                 \n",
      " max_pooling2d_1 (MaxPooling  (None, 56, 56, 64)       0         \n",
      " 2D)                                                             \n",
      "                                                                 \n",
      " conv2d_4 (Conv2D)           (None, 56, 56, 128)       73856     \n",
      "                                                                 \n",
      " conv2d_5 (Conv2D)           (None, 56, 56, 128)       147584    \n",
      "                                                                 \n",
      " max_pooling2d_2 (MaxPooling  (None, 28, 28, 128)      0         \n",
      " 2D)                                                             \n",
      "                                                                 \n",
      " conv2d_6 (Conv2D)           (None, 28, 28, 128)       147584    \n",
      "                                                                 \n",
      " conv2d_7 (Conv2D)           (None, 28, 28, 224)       258272    \n",
      "                                                                 \n",
      " max_pooling2d_3 (MaxPooling  (None, 14, 14, 224)      0         \n",
      " 2D)                                                             \n",
      "                                                                 \n",
      " conv2d_8 (Conv2D)           (None, 14, 14, 224)       451808    \n",
      "                                                                 \n",
      " conv2d_9 (Conv2D)           (None, 14, 14, 224)       451808    \n",
      "                                                                 \n",
      " max_pooling2d_4 (MaxPooling  (None, 7, 7, 224)        0         \n",
      " 2D)                                                             \n",
      "                                                                 \n",
      " dropout (Dropout)           (None, 7, 7, 224)         0         \n",
      "                                                                 \n",
      " flatten (Flatten)           (None, 10976)             0         \n",
      "                                                                 \n",
      " dense (Dense)               (None, 64)                702528    \n",
      "                                                                 \n",
      " dropout_1 (Dropout)         (None, 64)                0         \n",
      "                                                                 \n",
      " dense_1 (Dense)             (None, 64)                4160      \n",
      "                                                                 \n",
      " dense_2 (Dense)             (None, 16)                1040      \n",
      "                                                                 \n",
      " dense_3 (Dense)             (None, 2)                 34        \n",
      "                                                                 \n",
      "=================================================================\n",
      "Total params: 2,287,650\n",
      "Trainable params: 2,287,650\n",
      "Non-trainable params: 0\n",
      "_________________________________________________________________\n"
     ]
    }
   ],
   "source": [
    "model.compile(\n",
    "    optimizer=tf.keras.optimizers.Adam(learning_rate=0.0001),\n",
    "    loss=tf.keras.losses.SparseCategoricalCrossentropy(),\n",
    "    metrics=['accuracy']\n",
    ")\n",
    "model.summary()"
   ]
  },
  {
   "cell_type": "code",
   "execution_count": 10,
   "id": "296085bb",
   "metadata": {},
   "outputs": [],
   "source": [
    "callbacks = [\n",
    "    EarlyStopping(monitor='val_loss', patience=patience) # patience :: 참을성 인자, val_loss 값이 더이상 줄어들지 않으면 조기 종료\n",
    "    # tf.keras.callbacks.ModelCheckpoint('save_at_{epoch}.h5'), # 학습 중간저장 체크포인트\n",
    "]"
   ]
  },
  {
   "cell_type": "code",
   "execution_count": 11,
   "id": "9dc4dcc7",
   "metadata": {
    "scrolled": false
   },
   "outputs": [
    {
     "name": "stdout",
     "output_type": "stream",
     "text": [
      "Epoch 1/100\n",
      "100/100 [==============================] - 19s 102ms/step - loss: 0.6834 - accuracy: 0.5467 - val_loss: 0.6202 - val_accuracy: 0.6449\n",
      "Epoch 2/100\n",
      "100/100 [==============================] - 8s 80ms/step - loss: 0.6046 - accuracy: 0.6696 - val_loss: 0.3308 - val_accuracy: 0.8621\n",
      "Epoch 3/100\n",
      "100/100 [==============================] - 8s 80ms/step - loss: 0.2914 - accuracy: 0.9003 - val_loss: 0.1615 - val_accuracy: 0.9416\n",
      "Epoch 4/100\n",
      "100/100 [==============================] - 8s 81ms/step - loss: 0.2112 - accuracy: 0.9373 - val_loss: 0.1511 - val_accuracy: 0.9556\n",
      "Epoch 5/100\n",
      "100/100 [==============================] - 8s 81ms/step - loss: 0.1110 - accuracy: 0.9630 - val_loss: 0.1126 - val_accuracy: 0.9650\n",
      "Epoch 6/100\n",
      "100/100 [==============================] - 8s 84ms/step - loss: 0.0665 - accuracy: 0.9831 - val_loss: 0.0432 - val_accuracy: 0.9860\n",
      "Epoch 7/100\n",
      "100/100 [==============================] - 8s 82ms/step - loss: 0.0426 - accuracy: 0.9875 - val_loss: 0.0076 - val_accuracy: 1.0000\n",
      "Epoch 8/100\n",
      "100/100 [==============================] - 8s 81ms/step - loss: 0.0471 - accuracy: 0.9875 - val_loss: 0.0487 - val_accuracy: 0.9836\n",
      "Epoch 9/100\n",
      "100/100 [==============================] - 8s 82ms/step - loss: 0.0475 - accuracy: 0.9824 - val_loss: 0.0402 - val_accuracy: 0.9813\n",
      "Epoch 10/100\n",
      "100/100 [==============================] - 8s 81ms/step - loss: 0.0363 - accuracy: 0.9893 - val_loss: 0.0100 - val_accuracy: 0.9953\n",
      "Epoch 11/100\n",
      "100/100 [==============================] - 8s 81ms/step - loss: 0.0240 - accuracy: 0.9918 - val_loss: 0.0087 - val_accuracy: 0.9977\n",
      "Epoch 12/100\n",
      "100/100 [==============================] - 8s 81ms/step - loss: 0.0416 - accuracy: 0.9881 - val_loss: 0.0319 - val_accuracy: 0.9930\n",
      "Epoch 13/100\n",
      "100/100 [==============================] - 8s 81ms/step - loss: 0.0115 - accuracy: 0.9962 - val_loss: 0.0678 - val_accuracy: 0.9883\n",
      "Epoch 14/100\n",
      "100/100 [==============================] - 8s 81ms/step - loss: 0.0151 - accuracy: 0.9956 - val_loss: 0.0062 - val_accuracy: 0.9977\n",
      "Epoch 15/100\n",
      "100/100 [==============================] - 8s 81ms/step - loss: 0.0227 - accuracy: 0.9944 - val_loss: 0.0293 - val_accuracy: 0.9977\n",
      "Epoch 16/100\n",
      "100/100 [==============================] - 8s 85ms/step - loss: 0.0205 - accuracy: 0.9944 - val_loss: 0.0368 - val_accuracy: 0.9977\n",
      "Epoch 17/100\n",
      "100/100 [==============================] - 8s 82ms/step - loss: 0.0151 - accuracy: 0.9956 - val_loss: 0.0393 - val_accuracy: 0.9930\n",
      "Epoch 18/100\n",
      "100/100 [==============================] - 8s 81ms/step - loss: 0.0371 - accuracy: 0.9906 - val_loss: 0.0149 - val_accuracy: 0.9930\n",
      "Epoch 19/100\n",
      "100/100 [==============================] - 8s 81ms/step - loss: 0.0236 - accuracy: 0.9931 - val_loss: 0.0040 - val_accuracy: 0.9977\n",
      "Epoch 20/100\n",
      "100/100 [==============================] - 8s 81ms/step - loss: 0.0186 - accuracy: 0.9962 - val_loss: 0.0687 - val_accuracy: 0.9883\n",
      "Epoch 21/100\n",
      "100/100 [==============================] - 8s 81ms/step - loss: 0.0105 - accuracy: 0.9981 - val_loss: 0.0179 - val_accuracy: 0.9930\n",
      "Epoch 22/100\n",
      "100/100 [==============================] - 8s 84ms/step - loss: 0.0160 - accuracy: 0.9950 - val_loss: 0.0027 - val_accuracy: 1.0000\n",
      "Epoch 23/100\n",
      "100/100 [==============================] - 8s 82ms/step - loss: 0.0111 - accuracy: 0.9969 - val_loss: 0.0057 - val_accuracy: 0.9953\n",
      "Epoch 24/100\n",
      "100/100 [==============================] - 8s 82ms/step - loss: 0.0014 - accuracy: 1.0000 - val_loss: 7.8171e-04 - val_accuracy: 1.0000\n",
      "Epoch 25/100\n",
      "100/100 [==============================] - 8s 81ms/step - loss: 0.0136 - accuracy: 0.9962 - val_loss: 0.0133 - val_accuracy: 0.9930\n",
      "Epoch 26/100\n",
      "100/100 [==============================] - 8s 81ms/step - loss: 0.0095 - accuracy: 0.9956 - val_loss: 0.0017 - val_accuracy: 1.0000\n",
      "Epoch 27/100\n",
      "100/100 [==============================] - 8s 81ms/step - loss: 0.0316 - accuracy: 0.9918 - val_loss: 0.0016 - val_accuracy: 1.0000\n",
      "Epoch 28/100\n",
      "100/100 [==============================] - 8s 81ms/step - loss: 0.0122 - accuracy: 0.9956 - val_loss: 0.0011 - val_accuracy: 1.0000\n",
      "Epoch 29/100\n",
      "100/100 [==============================] - 8s 81ms/step - loss: 0.0036 - accuracy: 0.9994 - val_loss: 0.0125 - val_accuracy: 0.9977\n",
      "Epoch 30/100\n",
      "100/100 [==============================] - 8s 81ms/step - loss: 0.0099 - accuracy: 0.9956 - val_loss: 0.0018 - val_accuracy: 1.0000\n",
      "Epoch 31/100\n",
      "100/100 [==============================] - 8s 82ms/step - loss: 0.0084 - accuracy: 0.9975 - val_loss: 1.6205e-05 - val_accuracy: 1.0000\n",
      "Epoch 32/100\n",
      "100/100 [==============================] - 8s 83ms/step - loss: 7.3668e-04 - accuracy: 1.0000 - val_loss: 1.6245e-05 - val_accuracy: 1.0000\n",
      "Epoch 33/100\n",
      "100/100 [==============================] - 8s 81ms/step - loss: 5.8818e-04 - accuracy: 1.0000 - val_loss: 8.0601e-07 - val_accuracy: 1.0000\n",
      "Epoch 34/100\n",
      "100/100 [==============================] - 8s 81ms/step - loss: 0.0072 - accuracy: 0.9975 - val_loss: 0.0640 - val_accuracy: 0.9907\n",
      "Epoch 35/100\n",
      "100/100 [==============================] - 8s 80ms/step - loss: 0.0232 - accuracy: 0.9931 - val_loss: 0.0084 - val_accuracy: 0.9953\n",
      "Epoch 36/100\n",
      "100/100 [==============================] - 8s 80ms/step - loss: 0.0076 - accuracy: 0.9969 - val_loss: 0.0010 - val_accuracy: 1.0000\n",
      "Epoch 37/100\n",
      "100/100 [==============================] - 8s 81ms/step - loss: 0.0011 - accuracy: 1.0000 - val_loss: 0.0023 - val_accuracy: 0.9977\n",
      "Epoch 38/100\n",
      "100/100 [==============================] - 8s 81ms/step - loss: 0.0061 - accuracy: 0.9987 - val_loss: 2.0706e-05 - val_accuracy: 1.0000\n",
      "Epoch 39/100\n",
      "100/100 [==============================] - 8s 81ms/step - loss: 4.8545e-04 - accuracy: 1.0000 - val_loss: 3.9312e-05 - val_accuracy: 1.0000\n",
      "Epoch 40/100\n",
      "100/100 [==============================] - 8s 81ms/step - loss: 0.0026 - accuracy: 0.9994 - val_loss: 0.0070 - val_accuracy: 0.9953\n",
      "Epoch 41/100\n",
      "100/100 [==============================] - 8s 81ms/step - loss: 0.0150 - accuracy: 0.9981 - val_loss: 0.0414 - val_accuracy: 0.9790\n"
     ]
    }
   ],
   "source": [
    "history = model.fit(\n",
    "    train_set,\n",
    "    validation_data=valid_set,\n",
    "    callbacks=callbacks,\n",
    "    epochs=epochs\n",
    ")"
   ]
  },
  {
   "cell_type": "code",
   "execution_count": 15,
   "id": "1f683542",
   "metadata": {},
   "outputs": [
    {
     "name": "stdout",
     "output_type": "stream",
     "text": [
      "INFO:tensorflow:Assets written to: ./save_model_19_dataset1_class2\\assets\n"
     ]
    }
   ],
   "source": [
    "model.save('./save_model_19_dataset1_class2')\n",
    "model.save('./save_model_19_dataset1class2.h5', save_format='h5')"
   ]
  },
  {
   "cell_type": "code",
   "execution_count": 12,
   "id": "6f1786b2",
   "metadata": {
    "scrolled": false
   },
   "outputs": [
    {
     "data": {
      "image/png": "[encoded data removed]",
      "text/plain": [
       "<Figure size 576x576 with 2 Axes>"
      ]
     },
     "metadata": {
      "needs_background": "light"
     },
     "output_type": "display_data"
    },
    {
     "data": {
      "text/plain": [
       "<Figure size 432x288 with 0 Axes>"
      ]
     },
     "metadata": {},
     "output_type": "display_data"
    }
   ],
   "source": [
    "early_epoch = history.epoch[-1] + 1\n",
    "acc = history.history['accuracy']\n",
    "val_acc = history.history['val_accuracy']\n",
    "\n",
    "loss=history.history['loss']\n",
    "val_loss=history.history['val_loss']\n",
    "\n",
    "# 학습 종료시 epoch 기록\n",
    "epochs_range = range(early_epoch)\n",
    "plt.figure(figsize=(8, 8))\n",
    "plt.subplot(1, 2, 1)\n",
    "plt.plot(epochs_range, acc, label='Training Accuracy')\n",
    "plt.plot(epochs_range, val_acc, label='Validation Accuracy')\n",
    "plt.legend(loc='lower right')\n",
    "plt.title('Training and Validation Accuracy')\n",
    "\n",
    "plt.subplot(1, 2, 2)\n",
    "plt.plot(epochs_range, loss, label='Training Loss')\n",
    "plt.plot(epochs_range, val_loss, label='Validation Loss')\n",
    "plt.legend(loc='upper right')\n",
    "plt.title('Training and Validation Loss')\n",
    "plt.show()\n",
    "plt.savefig('./model_19_dataset1_graph.png', facecolor='#FFFFFF')"
   ]
  },
  {
   "cell_type": "code",
   "execution_count": 13,
   "id": "de336459",
   "metadata": {},
   "outputs": [
    {
     "name": "stdout",
     "output_type": "stream",
     "text": [
      "Found 141 files belonging to 2 classes.\n",
      "9/9 [==============================] - 1s 63ms/step - loss: 0.0432 - accuracy: 0.9858\n",
      "Test Loss :  0.043156471103429794\n",
      "Test Accuracy :  0.9858155846595764\n"
     ]
    }
   ],
   "source": [
    "test_data = 'E:\\\\workspace\\\\ML_study\\\\AI_project\\\\dataset1\\\\test\\\\'\n",
    "# 테스트 데이터 평가\n",
    "test_set = image_dataset_from_directory(\n",
    "    test_data,\n",
    "    shuffle=True,\n",
    "    image_size=image_size,\n",
    "    batch_size=batch_size\n",
    ")\n",
    "loss, accuracy = model.evaluate(test_set)\n",
    "print('Test Loss : ', loss)\n",
    "print('Test Accuracy : ', accuracy)"
   ]
  },
  {
   "cell_type": "code",
   "execution_count": 14,
   "id": "86973812",
   "metadata": {},
   "outputs": [
    {
     "name": "stdout",
     "output_type": "stream",
     "text": [
      "27/27 [==============================] - 1s 27ms/step - loss: 0.0414 - accuracy: 0.9790\n",
      "Test Loss :  0.04137945547699928\n",
      "Test Accuracy :  0.9789719581604004\n"
     ]
    }
   ],
   "source": [
    "loss, accuracy = model.evaluate(valid_set)\n",
    "print('Test Loss : ', loss)\n",
    "print('Test Accuracy : ', accuracy)"
   ]
  },
  {
   "cell_type": "code",
   "execution_count": null,
   "id": "f60835d5",
   "metadata": {},
   "outputs": [],
   "source": []
  }
 ],
 "metadata": {
  "kernelspec": {
   "display_name": "Python 3 (ipykernel)",
   "language": "python",
   "name": "python3"
  },
  "language_info": {
   "codemirror_mode": {
    "name": "ipython",
    "version": 3
   },
   "file_extension": ".py",
   "mimetype": "text/x-python",
   "name": "python",
   "nbconvert_exporter": "python",
   "pygments_lexer": "ipython3",
   "version": "3.7.13"
  }
 },
 "nbformat": 4,
 "nbformat_minor": 5
}
