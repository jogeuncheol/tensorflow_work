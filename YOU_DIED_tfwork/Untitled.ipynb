{
 "cells": [
  {
   "cell_type": "code",
   "execution_count": 13,
   "id": "becb835b",
   "metadata": {},
   "outputs": [],
   "source": [
    "import tensorflow as tf\n",
    "from tensorflow.keras.preprocessing import image_dataset_from_directory\n",
    "from tensorflow.keras.callbacks import EarlyStopping\n",
    "import matplotlib.pyplot as plt"
   ]
  },
  {
   "cell_type": "code",
   "execution_count": 14,
   "id": "ccc43a0f",
   "metadata": {},
   "outputs": [],
   "source": [
    "train_data = 'E:\\\\workspace\\\\ML_study\\\\AI_project\\\\dataset1\\\\train\\\\'\n",
    "valid_data = 'E:\\\\workspace\\\\ML_study\\\\AI_project\\\\dataset1\\\\valid\\\\'\n",
    "test_data = 'E:\\\\workspace\\\\ML_study\\\\AI_project\\\\dataset1\\\\test\\\\'"
   ]
  },
  {
   "cell_type": "code",
   "execution_count": 15,
   "id": "f8141dce",
   "metadata": {},
   "outputs": [],
   "source": [
    "image_size = (224, 224)\n",
    "batch_size = 16\n",
    "epochs = 100\n",
    "patience = 15\n",
    "# patience: 학습 조기종료 인자. val_loss가 15epoch 동안 낮아지지 않으면 학습 종료"
   ]
  },
  {
   "cell_type": "code",
   "execution_count": 16,
   "id": "4fa3305f",
   "metadata": {},
   "outputs": [
    {
     "name": "stdout",
     "output_type": "stream",
     "text": [
      "Found 1597 files belonging to 2 classes.\n",
      "Found 429 files belonging to 2 classes.\n"
     ]
    }
   ],
   "source": [
    "# directory tree\n",
    "# |- train\n",
    "#     |- non_died\n",
    "#     |- you_died\n",
    "# |- valid\n",
    "#     |- non_died\n",
    "#     |- you_died\n",
    "train_set = image_dataset_from_directory(\n",
    "    train_data,\n",
    "    shuffle=True,\n",
    "    image_size=image_size,\n",
    "    batch_size=batch_size\n",
    ")\n",
    "valid_set = image_dataset_from_directory(\n",
    "    valid_data,\n",
    "    shuffle=True,\n",
    "    image_size=image_size,\n",
    "    batch_size=batch_size\n",
    ")"
   ]
  },
  {
   "cell_type": "code",
   "execution_count": 17,
   "id": "a2f86da9",
   "metadata": {},
   "outputs": [
    {
     "name": "stdout",
     "output_type": "stream",
     "text": [
      "['non_died', 'you_died']\n"
     ]
    }
   ],
   "source": [
    "labels = train_set.class_names\n",
    "print(labels)\n",
    "# ['non_died', 'you_died']"
   ]
  },
  {
   "cell_type": "code",
   "execution_count": 18,
   "id": "28d43a86",
   "metadata": {},
   "outputs": [],
   "source": [
    "# 학습 데이터 섞기\n",
    "AUTOTUNE = tf.data.experimental.AUTOTUNE\n",
    "train_set = train_set.cache().shuffle(1000).prefetch(buffer_size=AUTOTUNE)\n",
    "valid_set = valid_set.cache().prefetch(buffer_size=AUTOTUNE)"
   ]
  },
  {
   "cell_type": "code",
   "execution_count": 19,
   "id": "5de8cc49",
   "metadata": {},
   "outputs": [],
   "source": [
    "# 데이터 증강\n",
    "data_augmentation = tf.keras.Sequential(\n",
    "    [\n",
    "        tf.keras.layers.experimental.preprocessing.RandomFlip(\n",
    "            'horizontal',\n",
    "            input_shape=(224, 224, 3)\n",
    "        ),\n",
    "        tf.keras.layers.experimental.preprocessing.RandomRotation(0.1),\n",
    "        tf.keras.layers.experimental.preprocessing.RandomZoom(0.1)\n",
    "    ]\n",
    ")"
   ]
  },
  {
   "cell_type": "code",
   "execution_count": 20,
   "id": "f778be5f",
   "metadata": {},
   "outputs": [],
   "source": [
    "# 모델 구조 VGG-16 모방\n",
    "model = tf.keras.Sequential([\n",
    "    data_augmentation,\n",
    "    tf.keras.layers.experimental.preprocessing.Rescaling(1./255),\n",
    "    tf.keras.layers.Conv2D(224, (3, 3), padding='same', activation='relu'),\n",
    "    tf.keras.layers.Conv2D(224, (3, 3), padding='same', activation='relu'),\n",
    "    tf.keras.layers.MaxPooling2D(pool_size=(2, 2)),\n",
    "    tf.keras.layers.Conv2D(112, (3, 3), padding='same', activation='relu'),\n",
    "    tf.keras.layers.Conv2D(112, (3, 3), padding='same', activation='relu'),\n",
    "    tf.keras.layers.MaxPooling2D(pool_size=(2, 2)),\n",
    "    tf.keras.layers.Conv2D(56, (3, 3), padding='same', activation='relu'),\n",
    "    tf.keras.layers.Conv2D(56, (3, 3), padding='same', activation='relu'),\n",
    "    tf.keras.layers.MaxPooling2D(pool_size=(2, 2)),\n",
    "    tf.keras.layers.Conv2D(28, (3, 3), padding='same', activation='relu'),\n",
    "    tf.keras.layers.Conv2D(28, (3, 3), padding='same', activation='relu'),\n",
    "    tf.keras.layers.MaxPooling2D(pool_size=(2, 2)),\n",
    "    tf.keras.layers.Conv2D(14, (3, 3), padding='same', activation='relu'),\n",
    "    tf.keras.layers.Conv2D(14, (3, 3), padding='same', activation='relu'),\n",
    "    tf.keras.layers.MaxPooling2D(pool_size=(2, 2)),\n",
    "    tf.keras.layers.Flatten(),\n",
    "    tf.keras.layers.Dense(64, activation='relu'),\n",
    "    tf.keras.layers.Dense(64, activation='relu'),\n",
    "    tf.keras.layers.Dense(16, activation='relu'),\n",
    "    tf.keras.layers.Dense(2, activation='softmax'),\n",
    "])\n"
   ]
  },
  {
   "cell_type": "code",
   "execution_count": 21,
   "id": "c4c98168",
   "metadata": {},
   "outputs": [
    {
     "name": "stdout",
     "output_type": "stream",
     "text": [
      "Model: \"sequential_3\"\n",
      "_________________________________________________________________\n",
      " Layer (type)                Output Shape              Param #   \n",
      "=================================================================\n",
      " sequential_2 (Sequential)   (None, 224, 224, 3)       0         \n",
      "                                                                 \n",
      " rescaling_1 (Rescaling)     (None, 224, 224, 3)       0         \n",
      "                                                                 \n",
      " conv2d_10 (Conv2D)          (None, 224, 224, 224)     6272      \n",
      "                                                                 \n",
      " conv2d_11 (Conv2D)          (None, 224, 224, 224)     451808    \n",
      "                                                                 \n",
      " max_pooling2d_5 (MaxPooling  (None, 112, 112, 224)    0         \n",
      " 2D)                                                             \n",
      "                                                                 \n",
      " conv2d_12 (Conv2D)          (None, 112, 112, 112)     225904    \n",
      "                                                                 \n",
      " conv2d_13 (Conv2D)          (None, 112, 112, 112)     113008    \n",
      "                                                                 \n",
      " max_pooling2d_6 (MaxPooling  (None, 56, 56, 112)      0         \n",
      " 2D)                                                             \n",
      "                                                                 \n",
      " conv2d_14 (Conv2D)          (None, 56, 56, 56)        56504     \n",
      "                                                                 \n",
      " conv2d_15 (Conv2D)          (None, 56, 56, 56)        28280     \n",
      "                                                                 \n",
      " max_pooling2d_7 (MaxPooling  (None, 28, 28, 56)       0         \n",
      " 2D)                                                             \n",
      "                                                                 \n",
      " conv2d_16 (Conv2D)          (None, 28, 28, 28)        14140     \n",
      "                                                                 \n",
      " conv2d_17 (Conv2D)          (None, 28, 28, 28)        7084      \n",
      "                                                                 \n",
      " max_pooling2d_8 (MaxPooling  (None, 14, 14, 28)       0         \n",
      " 2D)                                                             \n",
      "                                                                 \n",
      " conv2d_18 (Conv2D)          (None, 14, 14, 14)        3542      \n",
      "                                                                 \n",
      " conv2d_19 (Conv2D)          (None, 14, 14, 14)        1778      \n",
      "                                                                 \n",
      " max_pooling2d_9 (MaxPooling  (None, 7, 7, 14)         0         \n",
      " 2D)                                                             \n",
      "                                                                 \n",
      " flatten_1 (Flatten)         (None, 686)               0         \n",
      "                                                                 \n",
      " dense_4 (Dense)             (None, 64)                43968     \n",
      "                                                                 \n",
      " dense_5 (Dense)             (None, 64)                4160      \n",
      "                                                                 \n",
      " dense_6 (Dense)             (None, 16)                1040      \n",
      "                                                                 \n",
      " dense_7 (Dense)             (None, 2)                 34        \n",
      "                                                                 \n",
      "=================================================================\n",
      "Total params: 957,522\n",
      "Trainable params: 957,522\n",
      "Non-trainable params: 0\n",
      "_________________________________________________________________\n"
     ]
    }
   ],
   "source": [
    "model.compile(\n",
    "    optimizer='Adam',# tf.keras.optimizers.Adam(lr=0.001, beta_1=0.9, beta_2=0.999),\n",
    "    loss=tf.keras.losses.SparseCategoricalCrossentropy(),\n",
    "    metrics=['accuracy']\n",
    ")\n",
    "model.summary()"
   ]
  },
  {
   "cell_type": "code",
   "execution_count": 22,
   "id": "296085bb",
   "metadata": {},
   "outputs": [],
   "source": [
    "callbacks = [\n",
    "    EarlyStopping(monitor='val_loss', patience=patience) # patience :: 참을성 인자, val_loss 값이 더이상 줄어들지 않으면 조기 종료\n",
    "    # tf.keras.callbacks.ModelCheckpoint('save_at_{epoch}.h5'), # 학습 중간저장 체크포인트\n",
    "]"
   ]
  },
  {
   "cell_type": "code",
   "execution_count": 23,
   "id": "9dc4dcc7",
   "metadata": {},
   "outputs": [
    {
     "name": "stdout",
     "output_type": "stream",
     "text": [
      "Epoch 1/100\n",
      "100/100 [==============================] - 106s 905ms/step - loss: 0.6777 - accuracy: 0.5667 - val_loss: 0.5085 - val_accuracy: 0.7972\n",
      "Epoch 2/100\n",
      "100/100 [==============================] - 86s 862ms/step - loss: 0.3839 - accuracy: 0.8497 - val_loss: 0.2525 - val_accuracy: 0.9021\n",
      "Epoch 3/100\n",
      "100/100 [==============================] - 86s 864ms/step - loss: 0.1719 - accuracy: 0.9487 - val_loss: 0.1519 - val_accuracy: 0.9557\n",
      "Epoch 4/100\n",
      "100/100 [==============================] - 89s 888ms/step - loss: 0.1245 - accuracy: 0.9693 - val_loss: 0.0751 - val_accuracy: 0.9814\n",
      "Epoch 5/100\n",
      "100/100 [==============================] - 91s 913ms/step - loss: 0.0894 - accuracy: 0.9806 - val_loss: 0.0660 - val_accuracy: 0.9837\n",
      "Epoch 6/100\n",
      "100/100 [==============================] - 88s 882ms/step - loss: 0.0489 - accuracy: 0.9881 - val_loss: 0.0426 - val_accuracy: 0.9860\n",
      "Epoch 7/100\n",
      "100/100 [==============================] - 89s 886ms/step - loss: 0.0218 - accuracy: 0.9906 - val_loss: 0.0430 - val_accuracy: 0.9977\n",
      "Epoch 8/100\n",
      "100/100 [==============================] - 87s 872ms/step - loss: 0.0343 - accuracy: 0.9919 - val_loss: 0.0276 - val_accuracy: 0.9953\n",
      "Epoch 9/100\n",
      "100/100 [==============================] - 87s 873ms/step - loss: 0.0431 - accuracy: 0.9887 - val_loss: 0.0393 - val_accuracy: 0.9953\n",
      "Epoch 10/100\n",
      "100/100 [==============================] - 87s 869ms/step - loss: 0.0138 - accuracy: 0.9969 - val_loss: 0.0295 - val_accuracy: 0.9953\n",
      "Epoch 11/100\n",
      "100/100 [==============================] - 90s 902ms/step - loss: 0.0311 - accuracy: 0.9931 - val_loss: 0.1060 - val_accuracy: 0.9627\n",
      "Epoch 12/100\n",
      "100/100 [==============================] - 92s 917ms/step - loss: 0.0256 - accuracy: 0.9937 - val_loss: 0.0439 - val_accuracy: 0.9977\n",
      "Epoch 13/100\n",
      "100/100 [==============================] - 87s 868ms/step - loss: 0.0408 - accuracy: 0.9906 - val_loss: 0.0373 - val_accuracy: 0.9977\n",
      "Epoch 14/100\n",
      "100/100 [==============================] - 85s 851ms/step - loss: 0.0226 - accuracy: 0.9956 - val_loss: 0.0272 - val_accuracy: 0.9977\n",
      "Epoch 15/100\n",
      "100/100 [==============================] - 85s 852ms/step - loss: 0.0164 - accuracy: 0.9962 - val_loss: 0.0393 - val_accuracy: 0.9953\n",
      "Epoch 16/100\n",
      "100/100 [==============================] - 88s 882ms/step - loss: 0.0109 - accuracy: 0.9975 - val_loss: 0.0440 - val_accuracy: 0.9977\n",
      "Epoch 17/100\n",
      "100/100 [==============================] - 88s 876ms/step - loss: 0.0080 - accuracy: 0.9975 - val_loss: 0.0350 - val_accuracy: 0.9977\n",
      "Epoch 18/100\n",
      "100/100 [==============================] - 87s 874ms/step - loss: 0.0150 - accuracy: 0.9975 - val_loss: 0.0353 - val_accuracy: 0.9907\n",
      "Epoch 19/100\n",
      "100/100 [==============================] - 87s 873ms/step - loss: 0.0216 - accuracy: 0.9969 - val_loss: 0.0307 - val_accuracy: 0.9930\n",
      "Epoch 20/100\n",
      "100/100 [==============================] - 87s 874ms/step - loss: 0.0227 - accuracy: 0.9937 - val_loss: 0.0745 - val_accuracy: 0.9930\n",
      "Epoch 21/100\n",
      "100/100 [==============================] - 88s 876ms/step - loss: 0.0306 - accuracy: 0.9944 - val_loss: 0.0375 - val_accuracy: 0.9953\n",
      "Epoch 22/100\n",
      "100/100 [==============================] - 88s 876ms/step - loss: 0.0137 - accuracy: 0.9969 - val_loss: 0.0409 - val_accuracy: 0.9977\n",
      "Epoch 23/100\n",
      "100/100 [==============================] - 87s 874ms/step - loss: 0.0170 - accuracy: 0.9969 - val_loss: 0.0241 - val_accuracy: 0.9977\n",
      "Epoch 24/100\n",
      "100/100 [==============================] - 87s 868ms/step - loss: 0.0125 - accuracy: 0.9975 - val_loss: 0.0369 - val_accuracy: 0.9953\n",
      "Epoch 25/100\n",
      "100/100 [==============================] - 88s 886ms/step - loss: 0.0147 - accuracy: 0.9975 - val_loss: 0.0249 - val_accuracy: 0.9953\n",
      "Epoch 26/100\n",
      "100/100 [==============================] - 88s 884ms/step - loss: 0.0098 - accuracy: 0.9987 - val_loss: 0.0320 - val_accuracy: 0.9977\n",
      "Epoch 27/100\n",
      "100/100 [==============================] - 85s 847ms/step - loss: 0.0514 - accuracy: 0.9837 - val_loss: 0.0279 - val_accuracy: 0.9930\n",
      "Epoch 28/100\n",
      "100/100 [==============================] - 85s 848ms/step - loss: 0.0215 - accuracy: 0.9956 - val_loss: 0.0314 - val_accuracy: 0.9977\n",
      "Epoch 29/100\n",
      "100/100 [==============================] - 84s 845ms/step - loss: 0.0131 - accuracy: 0.9962 - val_loss: 0.0306 - val_accuracy: 0.9977\n",
      "Epoch 30/100\n",
      "100/100 [==============================] - 85s 847ms/step - loss: 0.0209 - accuracy: 0.9962 - val_loss: 0.0639 - val_accuracy: 0.9977\n",
      "Epoch 31/100\n",
      "100/100 [==============================] - 84s 845ms/step - loss: 0.0433 - accuracy: 0.9937 - val_loss: 0.0381 - val_accuracy: 0.9907\n",
      "Epoch 32/100\n",
      "100/100 [==============================] - 84s 845ms/step - loss: 0.0122 - accuracy: 0.9969 - val_loss: 0.0178 - val_accuracy: 0.9977\n",
      "Epoch 33/100\n",
      "100/100 [==============================] - 84s 843ms/step - loss: 0.0126 - accuracy: 0.9956 - val_loss: 0.0192 - val_accuracy: 0.9977\n",
      "Epoch 34/100\n",
      "100/100 [==============================] - 85s 848ms/step - loss: 0.0064 - accuracy: 0.9994 - val_loss: 0.0218 - val_accuracy: 0.9977\n",
      "Epoch 35/100\n",
      "100/100 [==============================] - 84s 845ms/step - loss: 0.0084 - accuracy: 0.9975 - val_loss: 0.0311 - val_accuracy: 0.9953\n",
      "Epoch 36/100\n",
      "100/100 [==============================] - 84s 841ms/step - loss: 0.0058 - accuracy: 0.9994 - val_loss: 0.0220 - val_accuracy: 0.9977\n",
      "Epoch 37/100\n",
      "100/100 [==============================] - 87s 871ms/step - loss: 0.0050 - accuracy: 0.9994 - val_loss: 0.0330 - val_accuracy: 0.9953\n",
      "Epoch 38/100\n",
      "100/100 [==============================] - 87s 874ms/step - loss: 0.0099 - accuracy: 0.9981 - val_loss: 0.0300 - val_accuracy: 0.9977\n",
      "Epoch 39/100\n",
      "100/100 [==============================] - 88s 882ms/step - loss: 0.0217 - accuracy: 0.9944 - val_loss: 0.0220 - val_accuracy: 0.9977\n",
      "Epoch 40/100\n",
      "100/100 [==============================] - 91s 912ms/step - loss: 0.0082 - accuracy: 0.9987 - val_loss: 0.0666 - val_accuracy: 0.9977\n",
      "Epoch 41/100\n",
      "100/100 [==============================] - 91s 908ms/step - loss: 0.0146 - accuracy: 0.9987 - val_loss: 0.0246 - val_accuracy: 0.9930\n",
      "Epoch 42/100\n",
      "100/100 [==============================] - 91s 906ms/step - loss: 0.0164 - accuracy: 0.9975 - val_loss: 0.0216 - val_accuracy: 0.9977\n",
      "Epoch 43/100\n",
      "100/100 [==============================] - 91s 909ms/step - loss: 0.0083 - accuracy: 0.9987 - val_loss: 0.0259 - val_accuracy: 0.9977\n",
      "Epoch 44/100\n",
      "100/100 [==============================] - 91s 908ms/step - loss: 0.0127 - accuracy: 0.9969 - val_loss: 0.0184 - val_accuracy: 0.9977\n",
      "Epoch 45/100\n",
      "100/100 [==============================] - 90s 905ms/step - loss: 0.0087 - accuracy: 0.9987 - val_loss: 0.0219 - val_accuracy: 0.9977\n",
      "Epoch 46/100\n",
      "100/100 [==============================] - 91s 907ms/step - loss: 0.0157 - accuracy: 0.9956 - val_loss: 0.0212 - val_accuracy: 0.9953\n",
      "Epoch 47/100\n",
      "100/100 [==============================] - 90s 901ms/step - loss: 0.0098 - accuracy: 0.9981 - val_loss: 0.0156 - val_accuracy: 0.9977\n",
      "Epoch 48/100\n",
      "100/100 [==============================] - 90s 899ms/step - loss: 0.0087 - accuracy: 0.9987 - val_loss: 0.0179 - val_accuracy: 0.9977\n",
      "Epoch 49/100\n",
      "100/100 [==============================] - 90s 904ms/step - loss: 0.0137 - accuracy: 0.9969 - val_loss: 0.0227 - val_accuracy: 0.9953\n",
      "Epoch 50/100\n",
      "100/100 [==============================] - 91s 909ms/step - loss: 0.0126 - accuracy: 0.9975 - val_loss: 0.0223 - val_accuracy: 0.9977\n",
      "Epoch 51/100\n",
      "100/100 [==============================] - 91s 908ms/step - loss: 0.0089 - accuracy: 0.9981 - val_loss: 0.0194 - val_accuracy: 0.9977\n",
      "Epoch 52/100\n",
      "100/100 [==============================] - 91s 908ms/step - loss: 0.0050 - accuracy: 0.9994 - val_loss: 0.0255 - val_accuracy: 0.9977\n",
      "Epoch 53/100\n",
      "100/100 [==============================] - 91s 908ms/step - loss: 0.0065 - accuracy: 0.9994 - val_loss: 0.0214 - val_accuracy: 0.9977\n",
      "Epoch 54/100\n",
      "100/100 [==============================] - 91s 911ms/step - loss: 0.0053 - accuracy: 0.9994 - val_loss: 0.0345 - val_accuracy: 0.9977\n",
      "Epoch 55/100\n",
      "100/100 [==============================] - 90s 904ms/step - loss: 0.0297 - accuracy: 0.9962 - val_loss: 0.0633 - val_accuracy: 0.9860\n",
      "Epoch 56/100\n",
      "100/100 [==============================] - 91s 908ms/step - loss: 0.0222 - accuracy: 0.9925 - val_loss: 0.0227 - val_accuracy: 0.9977\n"
     ]
    },
    {
     "name": "stdout",
     "output_type": "stream",
     "text": [
      "Epoch 57/100\n",
      "100/100 [==============================] - 91s 907ms/step - loss: 0.0064 - accuracy: 0.9987 - val_loss: 0.0271 - val_accuracy: 0.9977\n",
      "Epoch 58/100\n",
      "100/100 [==============================] - 91s 907ms/step - loss: 0.0166 - accuracy: 0.9975 - val_loss: 0.0256 - val_accuracy: 0.9977\n",
      "Epoch 59/100\n",
      "100/100 [==============================] - 90s 903ms/step - loss: 0.0164 - accuracy: 0.9969 - val_loss: 0.0238 - val_accuracy: 0.9977\n",
      "Epoch 60/100\n",
      "100/100 [==============================] - 90s 903ms/step - loss: 0.0071 - accuracy: 0.9994 - val_loss: 0.0206 - val_accuracy: 0.9977\n",
      "Epoch 61/100\n",
      "100/100 [==============================] - 91s 910ms/step - loss: 0.0053 - accuracy: 0.9994 - val_loss: 0.0259 - val_accuracy: 0.9977\n",
      "Epoch 62/100\n",
      "100/100 [==============================] - 90s 905ms/step - loss: 0.0063 - accuracy: 0.9994 - val_loss: 0.0300 - val_accuracy: 0.9977\n"
     ]
    }
   ],
   "source": [
    "history = model.fit(\n",
    "    train_set,\n",
    "    validation_data=valid_set,\n",
    "    callbacks=callbacks,\n",
    "    epochs=epochs\n",
    ")"
   ]
  },
  {
   "cell_type": "code",
   "execution_count": 24,
   "id": "1f683542",
   "metadata": {},
   "outputs": [
    {
     "name": "stdout",
     "output_type": "stream",
     "text": [
      "INFO:tensorflow:Assets written to: ./save_model_8\\assets\n"
     ]
    }
   ],
   "source": [
    "model.save('./save_model_8')\n",
    "model.save('./save_model_8.h5', save_format='h5')"
   ]
  },
  {
   "cell_type": "code",
   "execution_count": 25,
   "id": "6f1786b2",
   "metadata": {},
   "outputs": [
    {
     "data": {
      "image/png": "[encoded data removed]",
      "text/plain": [
       "<Figure size 576x576 with 2 Axes>"
      ]
     },
     "metadata": {
      "needs_background": "light"
     },
     "output_type": "display_data"
    }
   ],
   "source": [
    "early_epoch = history.epoch[-1] + 1\n",
    "acc = history.history['accuracy']\n",
    "val_acc = history.history['val_accuracy']\n",
    "\n",
    "loss=history.history['loss']\n",
    "val_loss=history.history['val_loss']\n",
    "\n",
    "# 학습 종료시 epoch 기록\n",
    "epochs_range = range(early_epoch)\n",
    "plt.figure(figsize=(8, 8))\n",
    "plt.subplot(1, 2, 1)\n",
    "plt.plot(epochs_range, acc, label='Training Accuracy')\n",
    "plt.plot(epochs_range, val_acc, label='Validation Accuracy')\n",
    "plt.legend(loc='lower right')\n",
    "plt.title('Training and Validation Accuracy')\n",
    "\n",
    "plt.subplot(1, 2, 2)\n",
    "plt.plot(epochs_range, loss, label='Training Loss')\n",
    "plt.plot(epochs_range, val_loss, label='Validation Loss')\n",
    "plt.legend(loc='upper right')\n",
    "plt.title('Training and Validation Loss')\n",
    "plt.show()"
   ]
  },
  {
   "cell_type": "code",
   "execution_count": 26,
   "id": "de336459",
   "metadata": {},
   "outputs": [
    {
     "name": "stdout",
     "output_type": "stream",
     "text": [
      "Found 141 files belonging to 2 classes.\n",
      "9/9 [==============================] - 9s 200ms/step - loss: 3.9527e-05 - accuracy: 1.0000\n",
      "Test Loss :  3.9527472836198285e-05\n",
      "Test Accuracy :  1.0\n"
     ]
    }
   ],
   "source": [
    "# 테스트 데이터 평가\n",
    "test_set = image_dataset_from_directory(\n",
    "    test_data,\n",
    "    shuffle=True,\n",
    "    image_size=image_size,\n",
    "    batch_size=batch_size\n",
    ")\n",
    "loss, accuracy = model.evaluate(test_set)\n",
    "print('Test Loss : ', loss)\n",
    "print('Test Accuracy : ', accuracy)"
   ]
  },
  {
   "cell_type": "code",
   "execution_count": null,
   "id": "01d78820",
   "metadata": {},
   "outputs": [],
   "source": []
  }
 ],
 "metadata": {
  "kernelspec": {
   "display_name": "Python 3 (ipykernel)",
   "language": "python",
   "name": "python3"
  },
  "language_info": {
   "codemirror_mode": {
    "name": "ipython",
    "version": 3
   },
   "file_extension": ".py",
   "mimetype": "text/x-python",
   "name": "python",
   "nbconvert_exporter": "python",
   "pygments_lexer": "ipython3",
   "version": "3.7.13"
  }
 },
 "nbformat": 4,
 "nbformat_minor": 5
}
