{
 "cells": [
  {
   "cell_type": "code",
   "execution_count": 2,
   "id": "becb835b",
   "metadata": {},
   "outputs": [],
   "source": [
    "import matplotlib.pyplot as plt\n",
    "import tensorflow as tf\n",
    "\n",
    "from tensorflow import keras\n",
    "from tensorflow.keras import layers\n",
    "from tensorflow.keras.models import Sequential\n",
    "from tensorflow.keras.preprocessing import image_dataset_from_directory\n",
    "from tensorflow.keras.callbacks import EarlyStopping"
   ]
  },
  {
   "cell_type": "code",
   "execution_count": 3,
   "id": "ccc43a0f",
   "metadata": {},
   "outputs": [],
   "source": [
    "dataset_path = 'E:\\\\workspace\\\\ML_study\\\\AI_project\\\\dataset3\\\\'\n",
    "# train_data = 'E:\\\\workspace\\\\ML_study\\\\AI_project\\\\dataset1\\\\train\\\\'\n",
    "# valid_data = 'E:\\\\workspace\\\\ML_study\\\\AI_project\\\\dataset1\\\\valid\\\\'"
   ]
  },
  {
   "cell_type": "code",
   "execution_count": 4,
   "id": "f8141dce",
   "metadata": {},
   "outputs": [],
   "source": [
    "image_size = (224, 224)\n",
    "batch_size = 16\n",
    "epochs = 100\n",
    "patience = 8\n",
    "# patience: 학습 조기종료 인자. val_loss가 10epoch 동안 낮아지지 않으면 학습 종료"
   ]
  },
  {
   "cell_type": "code",
   "execution_count": null,
   "id": "4fa3305f",
   "metadata": {},
   "outputs": [],
   "source": [
    "# directory tree\n",
    "# |- non_died\n",
    "# |- you_died\n",
    "# train_set = image_dataset_from_directory(\n",
    "#     train_data,\n",
    "#     shuffle=True,\n",
    "#     image_size=image_size,\n",
    "#     batch_size=batch_size\n",
    "# )\n",
    "# valid_set = image_dataset_from_directory(\n",
    "#     valid_data,\n",
    "#     shuffle=True,\n",
    "#     image_size=image_size,\n",
    "#     batch_size=batch_size\n",
    "# )"
   ]
  },
  {
   "cell_type": "code",
   "execution_count": 5,
   "id": "e5bd2667",
   "metadata": {},
   "outputs": [
    {
     "name": "stdout",
     "output_type": "stream",
     "text": [
      "Found 1894 files belonging to 2 classes.\n",
      "Using 1516 files for training.\n"
     ]
    }
   ],
   "source": [
    "train_set = image_dataset_from_directory(\n",
    "    dataset_path,\n",
    "    validation_split=0.2,\n",
    "    subset='training',\n",
    "    seed=123,\n",
    "    shuffle=True,\n",
    "    image_size=image_size,\n",
    "    batch_size=batch_size\n",
    ")"
   ]
  },
  {
   "cell_type": "code",
   "execution_count": 6,
   "id": "d31a2efc",
   "metadata": {},
   "outputs": [
    {
     "name": "stdout",
     "output_type": "stream",
     "text": [
      "Found 1894 files belonging to 2 classes.\n",
      "Using 378 files for validation.\n"
     ]
    }
   ],
   "source": [
    "valid_set = image_dataset_from_directory(\n",
    "    dataset_path,\n",
    "    validation_split=0.2,\n",
    "    subset='validation',\n",
    "    seed=123,\n",
    "    shuffle=True,\n",
    "    image_size=image_size,\n",
    "    batch_size=batch_size\n",
    ")"
   ]
  },
  {
   "cell_type": "code",
   "execution_count": 7,
   "id": "a2f86da9",
   "metadata": {},
   "outputs": [
    {
     "name": "stdout",
     "output_type": "stream",
     "text": [
      "['non_died', 'you_died']\n"
     ]
    }
   ],
   "source": [
    "labels = train_set.class_names\n",
    "print(labels)\n",
    "# ['non_died', 'you_died']"
   ]
  },
  {
   "cell_type": "code",
   "execution_count": 8,
   "id": "28d43a86",
   "metadata": {},
   "outputs": [],
   "source": [
    "# 학습 성능 높이기\n",
    "AUTOTUNE = tf.data.experimental.AUTOTUNE\n",
    "train_set = train_set.cache().shuffle(1000).prefetch(buffer_size=AUTOTUNE)\n",
    "valid_set = valid_set.cache().prefetch(buffer_size=AUTOTUNE)"
   ]
  },
  {
   "cell_type": "code",
   "execution_count": 9,
   "id": "5de8cc49",
   "metadata": {},
   "outputs": [],
   "source": [
    "# 데이터 증강\n",
    "data_augmentation = Sequential(\n",
    "    [\n",
    "        layers.experimental.preprocessing.RandomFlip(\n",
    "            'horizontal',\n",
    "            input_shape=(224, 224, 3)\n",
    "        ),\n",
    "        layers.experimental.preprocessing.RandomRotation(0.1),\n",
    "        layers.experimental.preprocessing.RandomZoom(0.1)\n",
    "    ]\n",
    ")"
   ]
  },
  {
   "cell_type": "code",
   "execution_count": 10,
   "id": "70a6a480",
   "metadata": {},
   "outputs": [],
   "source": [
    "# 모델 구조 VGG-16 모방\n",
    "model = Sequential([\n",
    "    data_augmentation,\n",
    "    layers.experimental.preprocessing.Rescaling(1./255),\n",
    "    layers.Conv2D(16, (3, 3), padding='same', activation='relu'),\n",
    "    layers.Conv2D(16, (3, 3), padding='same', activation='relu'),\n",
    "    layers.MaxPooling2D(pool_size=(2, 2)),\n",
    "    layers.Conv2D(64, (3, 3), padding='same', activation='relu'),\n",
    "    layers.Conv2D(64, (3, 3), padding='same', activation='relu'),\n",
    "    layers.MaxPooling2D(pool_size=(2, 2)),\n",
    "    layers.Conv2D(128, (3, 3), padding='same', activation='relu'),\n",
    "    layers.Conv2D(128, (3, 3), padding='same', activation='relu'),\n",
    "    layers.MaxPooling2D(pool_size=(2, 2)),\n",
    "    layers.Conv2D(128, (3, 3), padding='same', activation='relu'),\n",
    "    layers.Conv2D(224, (3, 3), padding='same', activation='relu'),\n",
    "    layers.MaxPooling2D(pool_size=(2, 2)),\n",
    "    layers.Conv2D(224, (3, 3), padding='same', activation='relu'),\n",
    "    layers.Conv2D(224, (3, 3), padding='same', activation='relu'),\n",
    "    layers.MaxPooling2D(pool_size=(2, 2)),\n",
    "    layers.Dropout(0.2),\n",
    "    layers.Flatten(),\n",
    "    layers.Dense(64, activation='relu'),\n",
    "    layers.Dropout(0.5),\n",
    "    layers.Dense(64, activation='relu'),\n",
    "    layers.Dense(16, activation='relu'),\n",
    "    layers.Dense(2, activation='softmax'),\n",
    "])"
   ]
  },
  {
   "cell_type": "code",
   "execution_count": null,
   "id": "00cadca3",
   "metadata": {},
   "outputs": [],
   "source": [
    "# 모델 구조 VGG 모방\n",
    "# VGG-13 따라해보기\n",
    "# model = Sequential([\n",
    "#     data_augmentation,\n",
    "#     layers.experimental.preprocessing.Rescaling(1./255),\n",
    "#     layers.Conv2D(filters=64, kernel_size=(3, 3), padding='same', strides=(1, 1), activation='relu'),\n",
    "#     layers.Conv2D(filters=64, kernel_size=(3, 3), padding='same', strides=(1, 1), activation='relu'),\n",
    "#     layers.MaxPooling2D(pool_size=(2, 2), strides=(2, 2)),\n",
    "#     layers.Conv2D(filters=64, kernel_size=(3, 3), padding='same', strides=(1, 1), activation='relu'),\n",
    "#     layers.Conv2D(filters=128, kernel_size=(3, 3), padding='same', strides=(1, 1), activation='relu'),\n",
    "#     layers.MaxPooling2D(pool_size=(2, 2), strides=(2, 2)),\n",
    "#     layers.Conv2D(filters=128, kernel_size=(3, 3), padding='same', strides=(1, 1), activation='relu'),\n",
    "#     layers.Conv2D(filters=256, kernel_size=(3, 3), padding='same', strides=(1, 1), activation='relu'),\n",
    "#     layers.MaxPooling2D(pool_size=(2, 2), strides=(2, 2)),\n",
    "#     layers.Conv2D(filters=256, kernel_size=(3, 3), padding='same', strides=(1, 1), activation='relu'),\n",
    "#     layers.Conv2D(filters=512, kernel_size=(3, 3), padding='same', strides=(1, 1), activation='relu'),\n",
    "#     layers.MaxPooling2D(pool_size=(2, 2), strides=(2, 2)),\n",
    "#     layers.Conv2D(filters=512, kernel_size=(3, 3), padding='same', strides=(1, 1), activation='relu'),\n",
    "#     layers.Conv2D(filters=512, kernel_size=(3, 3), padding='same', strides=(1, 1), activation='relu'),\n",
    "#     layers.MaxPooling2D(pool_size=(2, 2), strides=(2, 2)),\n",
    "#     layers.Flatten(),\n",
    "#     layers.Dense(64, activation='relu'),\n",
    "#     layers.Dense(64, activation='relu'),\n",
    "#     layers.Dense(3, activation='softmax'),\n",
    "# ])"
   ]
  },
  {
   "cell_type": "code",
   "execution_count": null,
   "id": "f778be5f",
   "metadata": {},
   "outputs": [],
   "source": [
    "# 모델 구조 VGG-16 모방\n",
    "# model = Sequential([\n",
    "#     data_augmentation,\n",
    "#     layers.experimental.preprocessing.Rescaling(1./255),\n",
    "#     layers.Conv2D(64, (3, 3), padding='same', activation='relu'),\n",
    "#     layers.Conv2D(64, (3, 3), padding='same', activation='relu'),\n",
    "#     layers.MaxPooling2D(pool_size=(2, 2)),\n",
    "#     layers.Conv2D(64, (3, 3), padding='same', activation='relu'),\n",
    "#     layers.Conv2D(128, (3, 3), padding='same', activation='relu'),\n",
    "#     layers.MaxPooling2D(pool_size=(2, 2)),\n",
    "#     layers.Conv2D(128, (3, 3), padding='same', activation='relu'),\n",
    "#     layers.Conv2D(256, (3, 3), padding='same', activation='relu'),\n",
    "#     layers.MaxPooling2D(pool_size=(2, 2)),\n",
    "#     layers.Conv2D(256, (3, 3), padding='same', activation='relu'),\n",
    "#     layers.Conv2D(256, (3, 3), padding='same', activation='relu'),\n",
    "#     layers.MaxPooling2D(pool_size=(2, 2)),\n",
    "#     layers.Flatten(),\n",
    "#     layers.Dense(4000, activation='relu'),\n",
    "#     layers.Dense(4000, activation='relu'),\n",
    "#     layers.Dense(2000, activation='relu'),\n",
    "#     layers.Dense(2000, activation='relu'),\n",
    "#     layers.Dense(1000, activation='relu'),\n",
    "#     layers.Dense(1000, activation='relu'),\n",
    "#     layers.Dense(16, activation='relu'),\n",
    "#     layers.Dense(3, activation='softmax'),\n",
    "# ])"
   ]
  },
  {
   "cell_type": "code",
   "execution_count": null,
   "id": "63ba2d19",
   "metadata": {},
   "outputs": [],
   "source": [
    "# model = Sequential([\n",
    "#   layers.experimental.preprocessing.Rescaling(1./255, input_shape=(180, 180, 3)),\n",
    "#   layers.Conv2D(16, 3, padding='same', activation='relu'),\n",
    "#   layers.MaxPooling2D(),\n",
    "#   layers.Conv2D(32, 3, padding='same', activation='relu'),\n",
    "#   layers.MaxPooling2D(),\n",
    "#   layers.Conv2D(64, 3, padding='same', activation='relu'),\n",
    "#   layers.MaxPooling2D(),\n",
    "#   layers.Flatten(),\n",
    "#   layers.Dense(128, activation='relu'),\n",
    "#   layers.Dense(3)\n",
    "# ])"
   ]
  },
  {
   "cell_type": "code",
   "execution_count": null,
   "id": "d9c06f04",
   "metadata": {},
   "outputs": [],
   "source": [
    "# model = Sequential([\n",
    "#     data_augmentation,\n",
    "#     layers.experimental.preprocessing.Rescaling(1./255),\n",
    "#     layers.Conv2D(16, 3, padding='same', activation='relu'),\n",
    "#     layers.MaxPooling2D(),\n",
    "#     layers.Conv2D(32, 3, padding='same', activation='relu'),\n",
    "#     layers.MaxPooling2D(),\n",
    "#     layers.Conv2D(64, 3, padding='same', activation='relu'),\n",
    "#     layers.MaxPooling2D(),\n",
    "#     layers.Dropout(0.2),\n",
    "#     layers.Flatten(),\n",
    "#     layers.Dense(128, activation='relu'),\n",
    "#     layers.Dense(3)\n",
    "# ])"
   ]
  },
  {
   "cell_type": "code",
   "execution_count": 11,
   "id": "c4c98168",
   "metadata": {},
   "outputs": [
    {
     "name": "stdout",
     "output_type": "stream",
     "text": [
      "Model: \"sequential_1\"\n",
      "_________________________________________________________________\n",
      " Layer (type)                Output Shape              Param #   \n",
      "=================================================================\n",
      " sequential (Sequential)     (None, 224, 224, 3)       0         \n",
      "                                                                 \n",
      " rescaling (Rescaling)       (None, 224, 224, 3)       0         \n",
      "                                                                 \n",
      " conv2d (Conv2D)             (None, 224, 224, 16)      448       \n",
      "                                                                 \n",
      " conv2d_1 (Conv2D)           (None, 224, 224, 16)      2320      \n",
      "                                                                 \n",
      " max_pooling2d (MaxPooling2D  (None, 112, 112, 16)     0         \n",
      " )                                                               \n",
      "                                                                 \n",
      " conv2d_2 (Conv2D)           (None, 112, 112, 64)      9280      \n",
      "                                                                 \n",
      " conv2d_3 (Conv2D)           (None, 112, 112, 64)      36928     \n",
      "                                                                 \n",
      " max_pooling2d_1 (MaxPooling  (None, 56, 56, 64)       0         \n",
      " 2D)                                                             \n",
      "                                                                 \n",
      " conv2d_4 (Conv2D)           (None, 56, 56, 128)       73856     \n",
      "                                                                 \n",
      " conv2d_5 (Conv2D)           (None, 56, 56, 128)       147584    \n",
      "                                                                 \n",
      " max_pooling2d_2 (MaxPooling  (None, 28, 28, 128)      0         \n",
      " 2D)                                                             \n",
      "                                                                 \n",
      " conv2d_6 (Conv2D)           (None, 28, 28, 128)       147584    \n",
      "                                                                 \n",
      " conv2d_7 (Conv2D)           (None, 28, 28, 224)       258272    \n",
      "                                                                 \n",
      " max_pooling2d_3 (MaxPooling  (None, 14, 14, 224)      0         \n",
      " 2D)                                                             \n",
      "                                                                 \n",
      " conv2d_8 (Conv2D)           (None, 14, 14, 224)       451808    \n",
      "                                                                 \n",
      " conv2d_9 (Conv2D)           (None, 14, 14, 224)       451808    \n",
      "                                                                 \n",
      " max_pooling2d_4 (MaxPooling  (None, 7, 7, 224)        0         \n",
      " 2D)                                                             \n",
      "                                                                 \n",
      " dropout (Dropout)           (None, 7, 7, 224)         0         \n",
      "                                                                 \n",
      " flatten (Flatten)           (None, 10976)             0         \n",
      "                                                                 \n",
      " dense (Dense)               (None, 64)                702528    \n",
      "                                                                 \n",
      " dropout_1 (Dropout)         (None, 64)                0         \n",
      "                                                                 \n",
      " dense_1 (Dense)             (None, 64)                4160      \n",
      "                                                                 \n",
      " dense_2 (Dense)             (None, 16)                1040      \n",
      "                                                                 \n",
      " dense_3 (Dense)             (None, 2)                 34        \n",
      "                                                                 \n",
      "=================================================================\n",
      "Total params: 2,287,650\n",
      "Trainable params: 2,287,650\n",
      "Non-trainable params: 0\n",
      "_________________________________________________________________\n"
     ]
    }
   ],
   "source": [
    "model.compile(\n",
    "    optimizer=tf.keras.optimizers.Adam(learning_rate=0.0001),\n",
    "    loss=tf.keras.losses.SparseCategoricalCrossentropy(),\n",
    "    metrics=['accuracy']\n",
    ")\n",
    "model.summary()"
   ]
  },
  {
   "cell_type": "code",
   "execution_count": 12,
   "id": "296085bb",
   "metadata": {},
   "outputs": [],
   "source": [
    "callbacks = [\n",
    "    EarlyStopping(monitor='val_loss', patience=patience) # patience :: 참을성 인자, val_loss 값이 더이상 줄어들지 않으면 조기 종료\n",
    "    # tf.keras.callbacks.ModelCheckpoint('save_at_{epoch}.h5'), # 학습 중간저장 체크포인트\n",
    "]"
   ]
  },
  {
   "cell_type": "code",
   "execution_count": 13,
   "id": "9dc4dcc7",
   "metadata": {
    "scrolled": false
   },
   "outputs": [
    {
     "name": "stdout",
     "output_type": "stream",
     "text": [
      "Epoch 1/100\n",
      "95/95 [==============================] - 18s 97ms/step - loss: 0.6833 - accuracy: 0.5501 - val_loss: 0.6780 - val_accuracy: 0.5423\n",
      "Epoch 2/100\n",
      "95/95 [==============================] - 8s 80ms/step - loss: 0.6688 - accuracy: 0.5759 - val_loss: 0.6211 - val_accuracy: 0.6376\n",
      "Epoch 3/100\n",
      "95/95 [==============================] - 8s 79ms/step - loss: 0.5536 - accuracy: 0.7117 - val_loss: 0.3065 - val_accuracy: 0.8704\n",
      "Epoch 4/100\n",
      "95/95 [==============================] - 8s 80ms/step - loss: 0.2709 - accuracy: 0.9083 - val_loss: 0.1700 - val_accuracy: 0.9471\n",
      "Epoch 5/100\n",
      "95/95 [==============================] - 8s 80ms/step - loss: 0.1518 - accuracy: 0.9571 - val_loss: 0.0364 - val_accuracy: 0.9841\n",
      "Epoch 6/100\n",
      "95/95 [==============================] - 8s 80ms/step - loss: 0.0905 - accuracy: 0.9736 - val_loss: 0.0392 - val_accuracy: 0.9868\n",
      "Epoch 7/100\n",
      "95/95 [==============================] - 8s 81ms/step - loss: 0.0755 - accuracy: 0.9815 - val_loss: 0.0508 - val_accuracy: 0.9841\n",
      "Epoch 8/100\n",
      "95/95 [==============================] - 8s 81ms/step - loss: 0.0553 - accuracy: 0.9848 - val_loss: 0.0564 - val_accuracy: 0.9815\n",
      "Epoch 9/100\n",
      "95/95 [==============================] - 8s 81ms/step - loss: 0.0477 - accuracy: 0.9881 - val_loss: 0.0809 - val_accuracy: 0.9762\n",
      "Epoch 10/100\n",
      "95/95 [==============================] - 8s 83ms/step - loss: 0.0454 - accuracy: 0.9875 - val_loss: 0.0245 - val_accuracy: 0.9947\n",
      "Epoch 11/100\n",
      "95/95 [==============================] - 8s 81ms/step - loss: 0.0412 - accuracy: 0.9908 - val_loss: 0.0093 - val_accuracy: 0.9974\n",
      "Epoch 12/100\n",
      "95/95 [==============================] - 8s 81ms/step - loss: 0.0130 - accuracy: 0.9980 - val_loss: 0.0301 - val_accuracy: 0.9947\n",
      "Epoch 13/100\n",
      "95/95 [==============================] - 8s 81ms/step - loss: 0.0328 - accuracy: 0.9894 - val_loss: 0.0140 - val_accuracy: 0.9974\n",
      "Epoch 14/100\n",
      "95/95 [==============================] - 8s 80ms/step - loss: 0.0177 - accuracy: 0.9954 - val_loss: 0.0154 - val_accuracy: 0.9974\n",
      "Epoch 15/100\n",
      "95/95 [==============================] - 8s 80ms/step - loss: 0.0097 - accuracy: 0.9967 - val_loss: 0.0183 - val_accuracy: 0.9921\n",
      "Epoch 16/100\n",
      "95/95 [==============================] - 8s 80ms/step - loss: 0.0064 - accuracy: 0.9980 - val_loss: 0.0286 - val_accuracy: 0.9947\n",
      "Epoch 17/100\n",
      "95/95 [==============================] - 8s 80ms/step - loss: 0.0102 - accuracy: 0.9947 - val_loss: 0.0039 - val_accuracy: 0.9974\n",
      "Epoch 18/100\n",
      "95/95 [==============================] - 8s 80ms/step - loss: 0.0216 - accuracy: 0.9901 - val_loss: 0.0303 - val_accuracy: 0.9921\n",
      "Epoch 19/100\n",
      "95/95 [==============================] - 8s 80ms/step - loss: 0.0089 - accuracy: 0.9974 - val_loss: 0.0035 - val_accuracy: 0.9974\n",
      "Epoch 20/100\n",
      "95/95 [==============================] - 8s 80ms/step - loss: 0.0028 - accuracy: 0.9993 - val_loss: 0.0119 - val_accuracy: 0.9974\n",
      "Epoch 21/100\n",
      "95/95 [==============================] - 8s 80ms/step - loss: 0.0044 - accuracy: 0.9993 - val_loss: 0.0122 - val_accuracy: 0.9947\n",
      "Epoch 22/100\n",
      "95/95 [==============================] - 8s 80ms/step - loss: 0.0587 - accuracy: 0.9888 - val_loss: 0.0187 - val_accuracy: 0.9921\n",
      "Epoch 23/100\n",
      "95/95 [==============================] - 8s 80ms/step - loss: 0.0198 - accuracy: 0.9941 - val_loss: 0.0056 - val_accuracy: 0.9974\n",
      "Epoch 24/100\n",
      "95/95 [==============================] - 8s 80ms/step - loss: 0.0096 - accuracy: 0.9980 - val_loss: 0.0014 - val_accuracy: 1.0000\n",
      "Epoch 25/100\n",
      "95/95 [==============================] - 8s 80ms/step - loss: 0.0132 - accuracy: 0.9987 - val_loss: 0.0065 - val_accuracy: 0.9974\n",
      "Epoch 26/100\n",
      "95/95 [==============================] - 8s 81ms/step - loss: 0.0176 - accuracy: 0.9967 - val_loss: 0.0168 - val_accuracy: 0.9974\n",
      "Epoch 27/100\n",
      "95/95 [==============================] - 8s 80ms/step - loss: 0.0142 - accuracy: 0.9967 - val_loss: 0.0020 - val_accuracy: 1.0000\n",
      "Epoch 28/100\n",
      "95/95 [==============================] - 8s 80ms/step - loss: 0.0212 - accuracy: 0.9947 - val_loss: 0.0177 - val_accuracy: 0.9974\n",
      "Epoch 29/100\n",
      "95/95 [==============================] - 8s 80ms/step - loss: 0.0113 - accuracy: 0.9974 - val_loss: 0.0155 - val_accuracy: 0.9974\n",
      "Epoch 30/100\n",
      "95/95 [==============================] - 8s 80ms/step - loss: 0.0119 - accuracy: 0.9954 - val_loss: 0.0103 - val_accuracy: 0.9974\n",
      "Epoch 31/100\n",
      "95/95 [==============================] - 8s 80ms/step - loss: 0.0039 - accuracy: 0.9980 - val_loss: 0.0060 - val_accuracy: 0.9947\n",
      "Epoch 32/100\n",
      "95/95 [==============================] - 8s 80ms/step - loss: 0.0010 - accuracy: 1.0000 - val_loss: 9.2211e-04 - val_accuracy: 1.0000\n",
      "Epoch 33/100\n",
      "95/95 [==============================] - 8s 80ms/step - loss: 0.0030 - accuracy: 0.9980 - val_loss: 5.6523e-04 - val_accuracy: 1.0000\n",
      "Epoch 34/100\n",
      "95/95 [==============================] - 8s 80ms/step - loss: 0.0011 - accuracy: 1.0000 - val_loss: 0.0013 - val_accuracy: 1.0000\n",
      "Epoch 35/100\n",
      "95/95 [==============================] - 8s 80ms/step - loss: 7.9194e-04 - accuracy: 1.0000 - val_loss: 0.0037 - val_accuracy: 0.9974\n",
      "Epoch 36/100\n",
      "95/95 [==============================] - 8s 80ms/step - loss: 9.4217e-04 - accuracy: 0.9993 - val_loss: 2.6191e-04 - val_accuracy: 1.0000\n",
      "Epoch 37/100\n",
      "95/95 [==============================] - 8s 80ms/step - loss: 0.0096 - accuracy: 0.9967 - val_loss: 0.1327 - val_accuracy: 0.9868\n",
      "Epoch 38/100\n",
      "95/95 [==============================] - 8s 80ms/step - loss: 0.0091 - accuracy: 0.9980 - val_loss: 0.0088 - val_accuracy: 0.9974\n",
      "Epoch 39/100\n",
      "95/95 [==============================] - 8s 80ms/step - loss: 0.0163 - accuracy: 0.9960 - val_loss: 0.0175 - val_accuracy: 0.9947\n",
      "Epoch 40/100\n",
      "95/95 [==============================] - 8s 81ms/step - loss: 8.8270e-04 - accuracy: 1.0000 - val_loss: 0.0082 - val_accuracy: 0.9974\n",
      "Epoch 41/100\n",
      "95/95 [==============================] - 8s 84ms/step - loss: 0.0013 - accuracy: 0.9993 - val_loss: 0.0080 - val_accuracy: 0.9974\n",
      "Epoch 42/100\n",
      "95/95 [==============================] - 8s 80ms/step - loss: 5.6828e-04 - accuracy: 1.0000 - val_loss: 0.0079 - val_accuracy: 0.9974\n",
      "Epoch 43/100\n",
      "95/95 [==============================] - 8s 80ms/step - loss: 0.0077 - accuracy: 0.9974 - val_loss: 0.0022 - val_accuracy: 0.9974\n",
      "Epoch 44/100\n",
      "95/95 [==============================] - 8s 80ms/step - loss: 0.0137 - accuracy: 0.9947 - val_loss: 0.0076 - val_accuracy: 0.9974\n"
     ]
    }
   ],
   "source": [
    "history = model.fit(\n",
    "    train_set,\n",
    "    validation_data=valid_set,\n",
    "    callbacks=callbacks,\n",
    "    epochs=epochs\n",
    ")"
   ]
  },
  {
   "cell_type": "code",
   "execution_count": 17,
   "id": "1f683542",
   "metadata": {},
   "outputs": [
    {
     "name": "stdout",
     "output_type": "stream",
     "text": [
      "INFO:tensorflow:Assets written to: ./save_model_19_dataset3_crop\\assets\n"
     ]
    }
   ],
   "source": [
    "model.save('./save_model_19_dataset3_crop')\n",
    "model.save('./save_model_19_dataset3_crop.h5', save_format='h5')"
   ]
  },
  {
   "cell_type": "code",
   "execution_count": 14,
   "id": "6f1786b2",
   "metadata": {
    "scrolled": false
   },
   "outputs": [
    {
     "data": {
      "image/png": "[encoded data removed]",
      "text/plain": [
       "<Figure size 576x576 with 2 Axes>"
      ]
     },
     "metadata": {
      "needs_background": "light"
     },
     "output_type": "display_data"
    },
    {
     "data": {
      "text/plain": [
       "<Figure size 432x288 with 0 Axes>"
      ]
     },
     "metadata": {},
     "output_type": "display_data"
    }
   ],
   "source": [
    "early_epoch = history.epoch[-1] + 1\n",
    "acc = history.history['accuracy']\n",
    "val_acc = history.history['val_accuracy']\n",
    "\n",
    "loss=history.history['loss']\n",
    "val_loss=history.history['val_loss']\n",
    "\n",
    "# 학습 종료시 epoch 기록\n",
    "epochs_range = range(early_epoch)\n",
    "plt.figure(figsize=(8, 8))\n",
    "plt.subplot(1, 2, 1)\n",
    "plt.plot(epochs_range, acc, label='Training Accuracy')\n",
    "plt.plot(epochs_range, val_acc, label='Validation Accuracy')\n",
    "plt.legend(loc='lower right')\n",
    "plt.title('Training and Validation Accuracy')\n",
    "\n",
    "plt.subplot(1, 2, 2)\n",
    "plt.plot(epochs_range, loss, label='Training Loss')\n",
    "plt.plot(epochs_range, val_loss, label='Validation Loss')\n",
    "plt.legend(loc='upper right')\n",
    "plt.title('Training and Validation Loss')\n",
    "plt.show()\n",
    "plt.savefig('./model_19_dataset1_graph.png', facecolor='#FFFFFF')"
   ]
  },
  {
   "cell_type": "code",
   "execution_count": 16,
   "id": "de336459",
   "metadata": {},
   "outputs": [
    {
     "name": "stdout",
     "output_type": "stream",
     "text": [
      "Found 141 files belonging to 2 classes.\n",
      "9/9 [==============================] - 7s 63ms/step - loss: 1.9503e-04 - accuracy: 1.0000\n",
      "Test Loss :  0.0001950299774762243\n",
      "Test Accuracy :  1.0\n"
     ]
    }
   ],
   "source": [
    "test_data = 'E:\\\\workspace\\\\ML_study\\\\AI_project\\\\dataset1\\\\test\\\\'\n",
    "# 테스트 데이터 평가\n",
    "test_set = image_dataset_from_directory(\n",
    "    test_data,\n",
    "    shuffle=True,\n",
    "    image_size=image_size,\n",
    "    batch_size=batch_size\n",
    ")\n",
    "loss, accuracy = model.evaluate(test_set)\n",
    "print('Test Loss : ', loss)\n",
    "print('Test Accuracy : ', accuracy)"
   ]
  },
  {
   "cell_type": "code",
   "execution_count": 15,
   "id": "86973812",
   "metadata": {},
   "outputs": [
    {
     "name": "stdout",
     "output_type": "stream",
     "text": [
      "24/24 [==============================] - 1s 28ms/step - loss: 0.0076 - accuracy: 0.9974\n",
      "Test Loss :  0.007596215698868036\n",
      "Test Accuracy :  0.9973545074462891\n"
     ]
    }
   ],
   "source": [
    "loss, accuracy = model.evaluate(valid_set)\n",
    "print('Test Loss : ', loss)\n",
    "print('Test Accuracy : ', accuracy)"
   ]
  },
  {
   "cell_type": "code",
   "execution_count": null,
   "id": "f60835d5",
   "metadata": {},
   "outputs": [],
   "source": []
  }
 ],
 "metadata": {
  "kernelspec": {
   "display_name": "Python 3 (ipykernel)",
   "language": "python",
   "name": "python3"
  },
  "language_info": {
   "codemirror_mode": {
    "name": "ipython",
    "version": 3
   },
   "file_extension": ".py",
   "mimetype": "text/x-python",
   "name": "python",
   "nbconvert_exporter": "python",
   "pygments_lexer": "ipython3",
   "version": "3.7.13"
  }
 },
 "nbformat": 4,
 "nbformat_minor": 5
}
